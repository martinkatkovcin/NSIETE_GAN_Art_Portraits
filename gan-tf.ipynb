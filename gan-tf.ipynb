{
 "cells": [
  {
   "cell_type": "code",
   "execution_count": 1,
   "metadata": {
    "collapsed": true
   },
   "outputs": [
    {
     "name": "stdout",
     "output_type": "stream",
     "text": [
      "2.9.2\n",
      "[PhysicalDevice(name='/physical_device:GPU:0', device_type='GPU')]\n"
     ]
    },
    {
     "data": {
      "text/plain": [
       "['config.ini']"
      ]
     },
     "execution_count": 1,
     "metadata": {},
     "output_type": "execute_result"
    }
   ],
   "source": [
    "import numpy as np\n",
    "import pandas as pd\n",
    "import matplotlib.pyplot as plt\n",
    "\n",
    "import tensorflow as tf\n",
    "from tensorflow import keras\n",
    "from tensorflow.keras import layers\n",
    "\n",
    "from datetime import date\n",
    "\n",
    "print(tf.__version__)\n",
    "print(tf.config.list_physical_devices('GPU'))\n",
    "\n",
    "import configparser\n",
    "config = configparser.ConfigParser()\n",
    "config.read('config.ini')\n",
    "\n",
    "#import wandb\n",
    "#wandb.login()"
   ]
  },
  {
   "cell_type": "code",
   "execution_count": 2,
   "metadata": {
    "collapsed": false
   },
   "outputs": [
    {
     "data": {
      "text/plain": [
       "\"\\nwandb.config.update({'epochs': EPOCHS, \\n                     'image_size': IMAGE_SIZE, \\n                     'batch_size': BATCH_SIZE,\\n                     'start_lr': START_LR,\\n                     'max_lr': MAX_LR, \\n                     'strategy': ANNEAL_STRATEGY})\\n\""
      ]
     },
     "execution_count": 2,
     "metadata": {},
     "output_type": "execute_result"
    }
   ],
   "source": [
    "dataroot = \"data/portraits/\"\n",
    "\n",
    "IMAGE_SIZE = config['default'].getint('image_size')\n",
    "CHANNELS = config['default'].getint('channels')\n",
    "BATCH_SIZE = config['default'].getint('batch_size')\n",
    "SEED = config['default'].getint('seed')\n",
    "\n",
    "EPOCHS = config['training'].getint('epochs')\n",
    "START_LR = config['training'].getfloat('start_lr')\n",
    "MAX_LR = config['training'].getfloat('max_lr')\n",
    "STEPS_PER_EPOCH = config['training'].getint('steps_per_epoch')\n",
    "ANNEAL_STRATEGY = config['training']['strategy']\n",
    "\n",
    "GEN_FEATURE_MAPS = config['generator'].getint('feature_maps')\n",
    "Z_LATENT = config['generator'].getint('z_latent')\n",
    "DIS_FEATURE_MAPS = config['discriminator'].getint('feature_maps')\n",
    "\n",
    "N_GPUS = 1\n",
    "\n",
    "\"\"\"\n",
    "wandb.config.update({'epochs': EPOCHS, \n",
    "                     'image_size': IMAGE_SIZE, \n",
    "                     'batch_size': BATCH_SIZE,\n",
    "                     'start_lr': START_LR,\n",
    "                     'max_lr': MAX_LR, \n",
    "                     'strategy': ANNEAL_STRATEGY})\n",
    "\"\"\""
   ]
  },
  {
   "cell_type": "code",
   "execution_count": 11,
   "metadata": {
    "collapsed": false
   },
   "outputs": [
    {
     "name": "stdout",
     "output_type": "stream",
     "text": [
      "Found 4117 files belonging to 1 classes.\n"
     ]
    }
   ],
   "source": [
    "data = tf.keras.preprocessing.image_dataset_from_directory(dataroot, label_mode=None, image_size=(64, 64), batch_size=BATCH_SIZE)\n",
    "data = data.map(lambda x: x / 255.0)"
   ]
  },
  {
   "cell_type": "code",
   "execution_count": 14,
   "metadata": {},
   "outputs": [
    {
     "name": "stdout",
     "output_type": "stream",
     "text": [
      "Model: \"sequential_3\"\n",
      "_________________________________________________________________\n",
      " Layer (type)                Output Shape              Param #   \n",
      "=================================================================\n",
      " dense_3 (Dense)             (None, 4096)              413696    \n",
      "                                                                 \n",
      " reshape_2 (Reshape)         (None, 4, 4, 256)         0         \n",
      "                                                                 \n",
      " up_sampling2d_8 (UpSampling  (None, 8, 8, 256)        0         \n",
      " 2D)                                                             \n",
      "                                                                 \n",
      " conv2d_15 (Conv2D)          (None, 8, 8, 256)         590080    \n",
      "                                                                 \n",
      " batch_normalization_12 (Bat  (None, 8, 8, 256)        1024      \n",
      " chNormalization)                                                \n",
      "                                                                 \n",
      " activation_10 (Activation)  (None, 8, 8, 256)         0         \n",
      "                                                                 \n",
      " up_sampling2d_9 (UpSampling  (None, 16, 16, 256)      0         \n",
      " 2D)                                                             \n",
      "                                                                 \n",
      " conv2d_16 (Conv2D)          (None, 16, 16, 256)       590080    \n",
      "                                                                 \n",
      " batch_normalization_13 (Bat  (None, 16, 16, 256)      1024      \n",
      " chNormalization)                                                \n",
      "                                                                 \n",
      " activation_11 (Activation)  (None, 16, 16, 256)       0         \n",
      "                                                                 \n",
      " up_sampling2d_10 (UpSamplin  (None, 32, 32, 256)      0         \n",
      " g2D)                                                            \n",
      "                                                                 \n",
      " conv2d_17 (Conv2D)          (None, 32, 32, 256)       590080    \n",
      "                                                                 \n",
      " batch_normalization_14 (Bat  (None, 32, 32, 256)      1024      \n",
      " chNormalization)                                                \n",
      "                                                                 \n",
      " activation_12 (Activation)  (None, 32, 32, 256)       0         \n",
      "                                                                 \n",
      " up_sampling2d_11 (UpSamplin  (None, 64, 64, 256)      0         \n",
      " g2D)                                                            \n",
      "                                                                 \n",
      " conv2d_18 (Conv2D)          (None, 64, 64, 128)       295040    \n",
      "                                                                 \n",
      " batch_normalization_15 (Bat  (None, 64, 64, 128)      512       \n",
      " chNormalization)                                                \n",
      "                                                                 \n",
      " activation_13 (Activation)  (None, 64, 64, 128)       0         \n",
      "                                                                 \n",
      " conv2d_19 (Conv2D)          (None, 64, 64, 3)         3459      \n",
      "                                                                 \n",
      " activation_14 (Activation)  (None, 64, 64, 3)         0         \n",
      "                                                                 \n",
      "=================================================================\n",
      "Total params: 2,486,019\n",
      "Trainable params: 2,484,227\n",
      "Non-trainable params: 1,792\n",
      "_________________________________________________________________\n"
     ]
    }
   ],
   "source": [
    "#Building a Generator\n",
    "generator = keras.Sequential()\n",
    "generator.add(layers.Dense(4 * 4 * 256, activation=\"relu\", input_dim=Z_LATENT))\n",
    "generator.add(layers.Reshape((4,4,256)))\n",
    "generator.add(layers.UpSampling2D())\n",
    "\n",
    "generator.add(layers.Conv2D(256, kernel_size=3, padding=\"same\"))\n",
    "generator.add(layers.BatchNormalization(momentum=0.8))\n",
    "generator.add(layers.Activation(\"relu\"))\n",
    "generator.add(layers.UpSampling2D())\n",
    "\n",
    "generator.add(layers.Conv2D(256, kernel_size=3, padding=\"same\"))\n",
    "generator.add(layers.BatchNormalization(momentum=0.8))\n",
    "generator.add(layers.Activation(\"relu\"))\n",
    "generator.add(layers.UpSampling2D())\n",
    "\n",
    "generator.add(layers.Conv2D(256, kernel_size=3, padding=\"same\"))#\n",
    "generator.add(layers.BatchNormalization(momentum=0.8))\n",
    "generator.add(layers.Activation(\"relu\"))\n",
    "generator.add(layers.UpSampling2D())\n",
    "\n",
    "generator.add(layers.Conv2D(128, kernel_size=3, padding=\"same\"))\n",
    "generator.add(layers.BatchNormalization(momentum=0.8))\n",
    "generator.add(layers.Activation(\"relu\"))\n",
    "\n",
    "generator.add(layers.Conv2D(3, kernel_size=3, padding=\"same\"))\n",
    "generator.add(layers.Activation(\"tanh\"))\n",
    "\n",
    "generator.summary()"
   ]
  },
  {
   "cell_type": "code",
   "execution_count": 19,
   "metadata": {},
   "outputs": [
    {
     "data": {
      "text/plain": [
       "(-0.5, 63.5, 63.5, -0.5)"
      ]
     },
     "execution_count": 19,
     "metadata": {},
     "output_type": "execute_result"
    },
    {
     "data": {
      "image/png": "[encoded data removed]",
      "text/plain": [
       "<Figure size 640x480 with 1 Axes>"
      ]
     },
     "metadata": {},
     "output_type": "display_data"
    }
   ],
   "source": [
    "seed = tf.random.normal([1, Z_LATENT])\n",
    "Generated_Portrait = generator(seed, training=False)\n",
    "#Plotting the image output of generator without training \n",
    "plt.imshow(Generated_Portrait[0, :, :, 0])\n",
    "plt.axis(\"off\")"
   ]
  },
  {
   "cell_type": "code",
   "execution_count": 20,
   "metadata": {},
   "outputs": [
    {
     "name": "stdout",
     "output_type": "stream",
     "text": [
      "Model: \"sequential_5\"\n",
      "_________________________________________________________________\n",
      " Layer (type)                Output Shape              Param #   \n",
      "=================================================================\n",
      " conv2d_25 (Conv2D)          (None, 32, 32, 32)        896       \n",
      "                                                                 \n",
      " leaky_re_lu_10 (LeakyReLU)  (None, 32, 32, 32)        0         \n",
      "                                                                 \n",
      " dropout_10 (Dropout)        (None, 32, 32, 32)        0         \n",
      "                                                                 \n",
      " conv2d_26 (Conv2D)          (None, 16, 16, 64)        18496     \n",
      "                                                                 \n",
      " zero_padding2d_2 (ZeroPaddi  (None, 17, 17, 64)       0         \n",
      " ng2D)                                                           \n",
      "                                                                 \n",
      " batch_normalization_20 (Bat  (None, 17, 17, 64)       256       \n",
      " chNormalization)                                                \n",
      "                                                                 \n",
      " leaky_re_lu_11 (LeakyReLU)  (None, 17, 17, 64)        0         \n",
      "                                                                 \n",
      " dropout_11 (Dropout)        (None, 17, 17, 64)        0         \n",
      "                                                                 \n",
      " conv2d_27 (Conv2D)          (None, 9, 9, 128)         73856     \n",
      "                                                                 \n",
      " batch_normalization_21 (Bat  (None, 9, 9, 128)        512       \n",
      " chNormalization)                                                \n",
      "                                                                 \n",
      " leaky_re_lu_12 (LeakyReLU)  (None, 9, 9, 128)         0         \n",
      "                                                                 \n",
      " dropout_12 (Dropout)        (None, 9, 9, 128)         0         \n",
      "                                                                 \n",
      " conv2d_28 (Conv2D)          (None, 9, 9, 256)         295168    \n",
      "                                                                 \n",
      " batch_normalization_22 (Bat  (None, 9, 9, 256)        1024      \n",
      " chNormalization)                                                \n",
      "                                                                 \n",
      " leaky_re_lu_13 (LeakyReLU)  (None, 9, 9, 256)         0         \n",
      "                                                                 \n",
      " dropout_13 (Dropout)        (None, 9, 9, 256)         0         \n",
      "                                                                 \n",
      " conv2d_29 (Conv2D)          (None, 9, 9, 512)         1180160   \n",
      "                                                                 \n",
      " batch_normalization_23 (Bat  (None, 9, 9, 512)        2048      \n",
      " chNormalization)                                                \n",
      "                                                                 \n",
      " leaky_re_lu_14 (LeakyReLU)  (None, 9, 9, 512)         0         \n",
      "                                                                 \n",
      " dropout_14 (Dropout)        (None, 9, 9, 512)         0         \n",
      "                                                                 \n",
      " flatten_2 (Flatten)         (None, 41472)             0         \n",
      "                                                                 \n",
      " dense_5 (Dense)             (None, 1)                 41473     \n",
      "                                                                 \n",
      "=================================================================\n",
      "Total params: 1,613,889\n",
      "Trainable params: 1,611,969\n",
      "Non-trainable params: 1,920\n",
      "_________________________________________________________________\n"
     ]
    }
   ],
   "source": [
    "discriminator = keras.Sequential()\n",
    "\n",
    "discriminator.add(layers.Conv2D(32, kernel_size=3, strides=2, input_shape=(64,64,3), padding=\"same\"))\n",
    "discriminator.add(layers.LeakyReLU(alpha=0.2))\n",
    "discriminator.add(layers.Dropout(0.25))\n",
    "\n",
    "discriminator.add(layers.Conv2D(64, kernel_size=3, strides=2, padding=\"same\"))\n",
    "discriminator.add(layers.ZeroPadding2D(padding=((0,1),(0,1))))\n",
    "discriminator.add(layers.BatchNormalization(momentum=0.8))\n",
    "discriminator.add(layers.LeakyReLU(alpha=0.2))\n",
    "discriminator.add(layers.Dropout(0.25))\n",
    "\n",
    "discriminator.add(layers.Conv2D(128, kernel_size=3, strides=2, padding=\"same\"))\n",
    "discriminator.add(layers.BatchNormalization(momentum=0.8))\n",
    "discriminator.add(layers.LeakyReLU(alpha=0.2))\n",
    "discriminator.add(layers.Dropout(0.25))\n",
    "\n",
    "discriminator.add(layers.Conv2D(256, kernel_size=3, strides=1, padding=\"same\"))\n",
    "discriminator.add(layers.BatchNormalization(momentum=0.8))\n",
    "discriminator.add(layers.LeakyReLU(alpha=0.2))\n",
    "discriminator.add(layers.Dropout(0.25))\n",
    "\n",
    "discriminator.add(layers.Conv2D(512, kernel_size=3, strides=1, padding=\"same\"))\n",
    "discriminator.add(layers.BatchNormalization(momentum=0.8))\n",
    "discriminator.add(layers.LeakyReLU(alpha=0.2))\n",
    "discriminator.add(layers.Dropout(0.25))\n",
    "\n",
    "discriminator.add(layers.Flatten())\n",
    "discriminator.add(layers.Dense(1, activation=\"sigmoid\"))\n",
    "\n",
    "discriminator.summary()"
   ]
  },
  {
   "cell_type": "code",
   "execution_count": 21,
   "metadata": {},
   "outputs": [
    {
     "name": "stdout",
     "output_type": "stream",
     "text": [
      "tf.Tensor([[0.5010617]], shape=(1, 1), dtype=float32)\n"
     ]
    }
   ],
   "source": [
    "Discriminator_Verdict = discriminator(Generated_Portrait)\n",
    "print (Discriminator_Verdict)"
   ]
  },
  {
   "cell_type": "code",
   "execution_count": 22,
   "metadata": {},
   "outputs": [],
   "source": [
    "class GAN(tf.keras.Model):\n",
    "    def __init__(self, discriminator, generator, latent_dim):\n",
    "        super(GAN, self).__init__()\n",
    "        self.discriminator = discriminator\n",
    "        self.generator = generator\n",
    "        self.latent_dim = latent_dim\n",
    "\n",
    "    def compile(self, d_optimizer, g_optimizer, loss_fn):\n",
    "        super(GAN, self).compile()\n",
    "        self.d_optimizer = d_optimizer\n",
    "        self.g_optimizer = g_optimizer\n",
    "        self.loss_fn = loss_fn\n",
    "        self.d_loss_metric = tf.keras.metrics.Mean(name=\"d_loss\")\n",
    "        self.g_loss_metric = tf.keras.metrics.Mean(name=\"g_loss\")\n",
    "\n",
    "    @property\n",
    "    def metrics(self):\n",
    "        return [self.d_loss_metric, self.g_loss_metric]\n",
    "\n",
    "    def train_step(self, real_images):\n",
    "        # Sample random points in the latent space\n",
    "        batch_size = tf.shape(real_images)[0]\n",
    "        seed = tf.random.normal(shape=(batch_size, self.latent_dim))\n",
    "        # Decode them to fake images\n",
    "        generated_images = self.generator(seed)\n",
    "        # Combine them with real images\n",
    "        combined_images = tf.concat([generated_images, real_images], axis=0)\n",
    "        # Assemble labels discriminating real from fake images\n",
    "        labels = tf.concat([tf.ones((batch_size, 1)), tf.zeros((batch_size, 1))], axis=0)\n",
    "        # Add random noise to the labels - important trick!\n",
    "        labels += 0.05 * tf.random.uniform(tf.shape(labels))\n",
    "        # Train the discriminator\n",
    "        with tf.GradientTape() as tape:\n",
    "            predictions = self.discriminator(combined_images)\n",
    "            d_loss = self.loss_fn(labels, predictions)\n",
    "        grads = tape.gradient(d_loss, self.discriminator.trainable_weights)\n",
    "        self.d_optimizer.apply_gradients(zip(grads, self.discriminator.trainable_weights))\n",
    "\n",
    "        # Sample random points in the latent space\n",
    "        seed = tf.random.normal(shape=(batch_size, self.latent_dim))\n",
    "\n",
    "        # Assemble labels that say \"all real images\"\n",
    "        misleading_labels = tf.zeros((batch_size, 1))\n",
    "\n",
    "        # Train the generator (note that we should *not* update the weights of the discriminator)!\n",
    "        with tf.GradientTape() as tape:\n",
    "            predictions = self.discriminator(self.generator(seed))\n",
    "            g_loss = self.loss_fn(misleading_labels, predictions)\n",
    "        grads = tape.gradient(g_loss, self.generator.trainable_weights)\n",
    "        self.g_optimizer.apply_gradients(zip(grads, self.generator.trainable_weights))\n",
    "\n",
    "        # Update metrics\n",
    "        self.d_loss_metric.update_state(d_loss)\n",
    "        self.g_loss_metric.update_state(g_loss)\n",
    "        return {\"d_loss\": self.d_loss_metric.result(), \"g_loss\": self.g_loss_metric.result()}"
   ]
  },
  {
   "cell_type": "code",
   "execution_count": 24,
   "metadata": {},
   "outputs": [
    {
     "name": "stdout",
     "output_type": "stream",
     "text": [
      "Epoch 1/5\n"
     ]
    },
    {
     "name": "stderr",
     "output_type": "stream",
     "text": [
      "2023-04-19 14:40:55.174779: I tensorflow/core/grappler/optimizers/custom_graph_optimizer_registry.cc:113] Plugin optimizer for device_type GPU is enabled.\n"
     ]
    },
    {
     "name": "stdout",
     "output_type": "stream",
     "text": [
      "129/129 [==============================] - 71s 510ms/step - d_loss: 152835.0781 - g_loss: 3930080.2500\n",
      "Epoch 2/5\n",
      "129/129 [==============================] - 65s 494ms/step - d_loss: 1329.8315 - g_loss: 88252.4453\n",
      "Epoch 3/5\n",
      "129/129 [==============================] - 68s 516ms/step - d_loss: -980.4760 - g_loss: 108174.1250\n",
      "Epoch 4/5\n",
      "129/129 [==============================] - 63s 479ms/step - d_loss: -27147.0625 - g_loss: 2442842.2500\n",
      "Epoch 5/5\n",
      "129/129 [==============================] - 63s 476ms/step - d_loss: 399464288.0000 - g_loss: 19080513536.0000\n"
     ]
    }
   ],
   "source": [
    "discriminator_opt = tf.keras.optimizers.Adam()\n",
    "generator_opt = tf.keras.optimizers.Adam()\n",
    "#To compute cross entropy loss\n",
    "loss_fn = tf.keras.losses.BinaryCrossentropy()\n",
    "\n",
    "#Defining GAN Model\n",
    "model = GAN(discriminator=discriminator, generator=generator, latent_dim=Z_LATENT)\n",
    "\n",
    "#Compiling GAN Model\n",
    "model.compile(d_optimizer=discriminator_opt, g_optimizer=generator_opt, loss_fn=loss_fn)\n",
    "\n",
    "#Fitting the GAN\n",
    "history = model.fit(data, epochs=EPOCHS)"
   ]
  },
  {
   "cell_type": "code",
   "execution_count": 25,
   "metadata": {},
   "outputs": [
    {
     "data": {
      "text/plain": [
       "Text(0.5, 1.0, 'Learning Curve')"
      ]
     },
     "execution_count": 25,
     "metadata": {},
     "output_type": "execute_result"
    },
    {
     "data": {
      "image/png": "[encoded data removed]",
      "text/plain": [
       "<Figure size 1500x400 with 1 Axes>"
      ]
     },
     "metadata": {},
     "output_type": "display_data"
    }
   ],
   "source": [
    "import seaborn as sns\n",
    "\n",
    "pal=[\"#994F5F\",\"#E2AB30\"]\n",
    "#Plotting the learning curve\n",
    "history_df = pd.DataFrame(history.history)\n",
    "fig = plt.figure(figsize=(15,4))\n",
    "ax = sns.lineplot(data=history_df, palette= pal)\n",
    "ax.set(xlabel =\"Epochs\")\n",
    "ax.set(ylabel =\"Loss\")\n",
    "ax.set_title(\"Learning Curve\")"
   ]
  },
  {
   "cell_type": "code",
   "execution_count": 26,
   "metadata": {},
   "outputs": [],
   "source": [
    "num_img=18\n",
    "\n",
    "#A function to generate and save images\n",
    "def Potrait_Generator():\n",
    "    Generated_Paintings = []\n",
    "    seed = tf.random.normal([num_img, Z_LATENT])\n",
    "    generated_image = generator(seed)\n",
    "    generated_image *= 255 \n",
    "    generated_image = generated_image.numpy()\n",
    "    for i in range(num_img):\n",
    "            img = tf.keras.preprocessing.image.array_to_img(generated_image[i])\n",
    "            Generated_Paintings.append(img)\n",
    "            img.save(\"Potraits{:02d}.png\".format(i)) \n",
    "    return \n",
    "\n",
    "#Generating images\n",
    "Images = Potrait_Generator()"
   ]
  },
  {
   "cell_type": "code",
   "execution_count": null,
   "metadata": {},
   "outputs": [],
   "source": []
  }
 ],
 "metadata": {
  "kernelspec": {
   "display_name": "Python 3",
   "language": "python",
   "name": "python3"
  },
  "language_info": {
   "codemirror_mode": {
    "name": "ipython",
    "version": 3
   },
   "file_extension": ".py",
   "mimetype": "text/x-python",
   "name": "python",
   "nbconvert_exporter": "python",
   "pygments_lexer": "ipython3",
   "version": "3.8.13"
  }
 },
 "nbformat": 4,
 "nbformat_minor": 0
}
